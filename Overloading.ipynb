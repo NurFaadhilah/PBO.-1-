{
 "cells": [
  {
   "cell_type": "markdown",
   "metadata": {},
   "source": [
    "# Overloading"
   ]
  },
  {
   "cell_type": "markdown",
   "metadata": {},
   "source": [
    "Overloading adalah pemakaian beberapa methods ataupun properties dengan nama yang sama, tetapi memiliki daftar parameter/argument yang berbeda. Perbedaan yang dimaksud adalah beda jumlah parameter, beda tipe data, atau beda keduanya (jumlah parameter dan tipe data)"
   ]
  },
  {
   "cell_type": "code",
   "execution_count": 1,
   "metadata": {},
   "outputs": [
    {
     "name": "stdout",
     "output_type": "stream",
     "text": [
      "Hello\n",
      "Hello Guido\n"
     ]
    }
   ],
   "source": [
    "class human:\n",
    "    def sayHello(self, nama = None):\n",
    "        if nama is not None:\n",
    "            print(\"Hello \" + nama)\n",
    "        else:\n",
    "            print(\"Hello\")\n",
    "#create instance\n",
    "obj = human()\n",
    "#call the method\n",
    "obj.sayHello()\n",
    "#call the method with a parameter\n",
    "obj.sayHello(\"Guido\")"
   ]
  },
  {
   "cell_type": "code",
   "execution_count": 2,
   "metadata": {},
   "outputs": [
    {
     "name": "stdout",
     "output_type": "stream",
     "text": [
      "2/4\n",
      "6/8\n"
     ]
    }
   ],
   "source": [
    "class fraction:\n",
    "    def __init__(self, top,bottom):\n",
    "        self.num = top\n",
    "        self.den = bottom\n",
    "    #def show(self):\n",
    "    #print(self.num,\"/\",self.den)\n",
    "    def __str__(self):\n",
    "        return str(self.num)+ \"/\" + str(self.den)\n",
    "\n",
    "    def __add__(self, otherfraction):\n",
    "        newmun = self.num * otherfraction.den + self.den * otherfraction.num\n",
    "        newden = self.den * otherfraction.den\n",
    "        return fraction(newmun, newden)\n",
    "\n",
    "f =  fraction (2, 4)\n",
    "#show(f)\n",
    "print(f)\n",
    "\n",
    "f1 = fraction(1,4)\n",
    "f2 = fraction(1,2)\n",
    "print(f1 + f2)"
   ]
  },
  {
   "cell_type": "code",
   "execution_count": 3,
   "metadata": {},
   "outputs": [
    {
     "name": "stdout",
     "output_type": "stream",
     "text": [
      "9\n",
      "15\n",
      "45\n"
     ]
    }
   ],
   "source": [
    "def jumlahkan(*args):\n",
    "    y=0\n",
    "    for x in args:\n",
    "        y = y + x\n",
    "    print(y)\n",
    "jumlahkan(4,5)\n",
    "jumlahkan(4,5,6)\n",
    "jumlahkan(1,2,3,4,5,6,7,8,9)"
   ]
  },
  {
   "cell_type": "code",
   "execution_count": null,
   "metadata": {},
   "outputs": [],
   "source": []
  }
 ],
 "metadata": {
  "kernelspec": {
   "display_name": "Python 3",
   "language": "python",
   "name": "python3"
  },
  "language_info": {
   "codemirror_mode": {
    "name": "ipython",
    "version": 3
   },
   "file_extension": ".py",
   "mimetype": "text/x-python",
   "name": "python",
   "nbconvert_exporter": "python",
   "pygments_lexer": "ipython3",
   "version": "3.7.1"
  }
 },
 "nbformat": 4,
 "nbformat_minor": 2
}
