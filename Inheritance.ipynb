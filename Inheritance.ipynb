{
 "cells": [
  {
   "cell_type": "markdown",
   "metadata": {},
   "source": [
    "# Inheritance"
   ]
  },
  {
   "cell_type": "markdown",
   "metadata": {},
   "source": [
    "InheritanceInheritance (Pewarisan) Inheritance atau Pewarisan/Penurunan yaitu cara membuat kelas baru (kelas turunan) pada kelas yang sudah ada (kelas induk) yang artinya kelas baru (kelas turunan) dapat mewarisi apapun yang sudah ada dikelas yang sudah ada(kelas induk)."
   ]
  },
  {
   "cell_type": "code",
   "execution_count": null,
   "metadata": {},
   "outputs": [],
   "source": []
  },
  {
   "cell_type": "code",
   "execution_count": 8,
   "metadata": {},
   "outputs": [
    {
     "name": "stdout",
     "output_type": "stream",
     "text": [
      "Name = Brian\n",
      "Programming python\n"
     ]
    }
   ],
   "source": [
    "#Default\n",
    "class user:\n",
    "    name = \"\"\n",
    "    def __init__ (self,name):\n",
    "        self.name = name\n",
    "    def printName(self):\n",
    "        print(\"Name = \" + self.name)\n",
    "class programmer(user):\n",
    "    def __init__(self,name):\n",
    "        self.name = name\n",
    "    def doPython(self):\n",
    "        print(\"Programming python\")\n",
    "Brian = user(\"Brian\")\n",
    "Brian.printName()\n",
    "Diana = programmer(\"Diana\")\n",
    "Diana.printName\n",
    "Diana.doPython()"
   ]
  },
  {
   "cell_type": "markdown",
   "metadata": {},
   "source": [
    "Macam-Macam Konsep Inheritance\n",
    "1.      Single Inheritance\n",
    "Single inheritance artinya subclass hanya dapat mempunyai satu parent class atau hanya dapat mengextends satu kelas saja.\n",
    "\n",
    "2.      Multiple Inheritance\n",
    "Multiple inheritance yaitu memperbolehkan satu class memiliki lebih dari satu parent class, solusinya yaitu menggunkan interface.\n",
    "\n",
    "3.      Multi Level Inheritance\n",
    "Multi level inheritance yaitu memperbolehkan suatu subclass mempunyai subclass lainnya."
   ]
  },
  {
   "cell_type": "code",
   "execution_count": 16,
   "metadata": {},
   "outputs": [
    {
     "name": "stdout",
     "output_type": "stream",
     "text": [
      "TerryFish\n",
      "bone\n",
      "False\n",
      "The fish is swimming.\n",
      "The fish can swim backwards.\n",
      "CasseyFish\n",
      "The fish is swimming.\n",
      "The Clownfish is coexiting with sea anemone.\n"
     ]
    }
   ],
   "source": [
    "class Fish:\n",
    "\tdef __init__(self, first_name, last_name=\"Fish\", skeleton=\"bone\", eyelids=False):\n",
    "\t\tself.first_name = first_name\n",
    "\t\tself.last_name = last_name\n",
    "\t\tself.skeleton = skeleton\n",
    "\t\tself.eyelids = eyelids\n",
    "\tdef swim(self):\n",
    "\t\tprint(\"The fish is swimming.\")\n",
    "\tdef swim_backwards(self):\n",
    "\t\tprint(\"The fish can swim backwards.\")\n",
    "class Trout(Fish) :\n",
    "    pass #kalo \n",
    "class Clownfish(Fish) :\n",
    "    def live_with_anemone(self):\n",
    "        print(\"The Clownfish is coexiting with sea anemone.\")\n",
    "terry = Trout(\"Terry\")\n",
    "print(terry.first_name + \"\" + terry.last_name)\n",
    "print(terry.skeleton)\n",
    "print(terry.eyelids)\n",
    "terry.swim()\n",
    "terry.swim_backwards()\n",
    "\n",
    "cassey = Clownfish(\"Cassey\")\n",
    "print(cassey.first_name + \"\" + cassey.last_name)\n",
    "cassey.swim()\n",
    "cassey.live_with_anemone()\n"
   ]
  },
  {
   "cell_type": "markdown",
   "metadata": {},
   "source": [
    "type of inheritance\n",
    "1.\tDefault (sama persis)\n",
    "Ex : Buah jatuh tidak jauh dari induknya\n",
    "2.\tOverriding (replace)\n",
    "Memodifikasi  property &/ method parentclass\n",
    "Ex : bapak putih, anak hitam\n",
    "3.\tSuper , kelas induk wariskan ke kelas anak. Add some uniques to child class\n",
    "Memanggil semua property induk\n",
    "Tapi ada penambahan yg unik\n",
    "Ex : tanda lahir\n",
    "4.\tPewarisan dari 2 base class \n",
    "Induk A punya a b\n",
    "Induk B punya cd\n",
    "Anak punya abcd\n"
   ]
  },
  {
   "cell_type": "code",
   "execution_count": 10,
   "metadata": {},
   "outputs": [
    {
     "name": "stdout",
     "output_type": "stream",
     "text": [
      "Penumpang: ['Dhila']\n",
      "Pintu terbuka: True\n"
     ]
    }
   ],
   "source": [
    "class Kendaraan(object):\n",
    "    def __init__(self, nama):\n",
    "        self.nama = nama\n",
    "        self.penumpang = []\n",
    "    def tambah_penumpang(self, nama_penumpang):\n",
    "        self.penumpang.append(nama_penumpang)\n",
    "\n",
    "\n",
    "# membuat class Mobil yang merupakan turunan Kendaraan\n",
    "class Mobil(Kendaraan):\n",
    "    pintu_terbuka = False\n",
    "\n",
    "    def buka_pintu(self):\n",
    "        self.pintu_terbuka = True\n",
    "\n",
    "    def tutup_pintu(self):\n",
    "        self.pintu_terbuka = False\n",
    "\n",
    "mobnas = Mobil(\"MobilSaya\")\n",
    "\n",
    "# mobnas akan memiliki properti dari Kendaraan\n",
    "mobnas.tambah_penumpang(\"Dhila\")\n",
    "print (\"Penumpang: \" + str(mobnas.penumpang))\n",
    "# dan memiliki properti Mobil\n",
    "mobnas.buka_pintu()\n",
    "print (\"Pintu terbuka: \" + str(mobnas.pintu_terbuka))"
   ]
  },
  {
   "cell_type": "code",
   "execution_count": 11,
   "metadata": {},
   "outputs": [
    {
     "name": "stdout",
     "output_type": "stream",
     "text": [
      "Nama depan anda :  Nur\n",
      "Nama belakang anda : Fadhilah\n",
      "Nama lengkap anda :  Nur   Fadhilah\n"
     ]
    }
   ],
   "source": [
    "class user:\n",
    "    def __init__(self,first_name):\n",
    "        self.first_name = first_name\n",
    "    def show(self):\n",
    "        print(\"Nama depan anda : \", self.first_name)\n",
    "x = user(\"Nur\")\n",
    "x.show()\n",
    "class programmer(user):\n",
    "    def __init__(self, first_name , last_name ):\n",
    "        self.last_name = last_name\n",
    "        super().__init__(first_name)\n",
    "    def show(self):\n",
    "        print(\"Nama belakang anda :\", self.last_name)\n",
    "    def show_all(self):\n",
    "        print(\"Nama lengkap anda : \", self.first_name, \" \", self.last_name)\n",
    "y = programmer(\"Nur\", \"Fadhilah\")\n",
    "y.show()\n",
    "y.show_all()"
   ]
  },
  {
   "cell_type": "code",
   "execution_count": 13,
   "metadata": {},
   "outputs": [
    {
     "name": "stdout",
     "output_type": "stream",
     "text": [
      "LINGKARAN :\n",
      "Masukkan jari jari = 7\n",
      "LUAS LINGKARAN 154.0\n",
      "KELILING LINGKARAN 44.0\n",
      "=========================================================================================\n",
      "TABUNG :\n",
      "Masukkan tinggi tabung = 10\n",
      "Masukkan jari jari = 7\n",
      "LUAS PERMUKAAN TABUNG 748.0\n"
     ]
    }
   ],
   "source": [
    "class lingkaran:\n",
    "    def __init__(self):\n",
    "        self.jarijari = int(input(\"Masukkan jari jari = \"))\n",
    "        self.phi = 22/7\n",
    "    def hitung_luas_lingkaran(self):\n",
    "        self.luas_lingkaran = self.phi*self.jarijari**2\n",
    "        print (\"LUAS LINGKARAN\",self.luas_lingkaran)\n",
    "    def hitung_keliling_lingkaran(self):\n",
    "        self.keliling_lingkaran = 2*self.phi*self.jarijari\n",
    "        print (\"KELILING LINGKARAN\",self.keliling_lingkaran)\n",
    "class tabung(lingkaran):\n",
    "    def __init__(self):\n",
    "        self.tinggi_tabung = int(input(\"Masukkan tinggi tabung = \"))\n",
    "        super().__init__()\n",
    "    def hitung_luas_permukaan(self):\n",
    "        self.luas_permukaan_tabung = 2*self.phi*self.jarijari*(self.tinggi_tabung+self.jarijari)\n",
    "        print(\"LUAS PERMUKAAN TABUNG\",self.luas_permukaan_tabung)\n",
    "print(\"LINGKARAN :\")\n",
    "x1 = lingkaran()\n",
    "x1.hitung_luas_lingkaran()\n",
    "x1.hitung_keliling_lingkaran()\n",
    "print(\"=========================================================================================\")\n",
    "print(\"TABUNG :\")\n",
    "x2 = tabung()\n",
    "x2.hitung_luas_permukaan()"
   ]
  },
  {
   "cell_type": "code",
   "execution_count": 15,
   "metadata": {},
   "outputs": [
    {
     "name": "stdout",
     "output_type": "stream",
     "text": [
      "Mahasiswa\n",
      "Nama :  Nur Fadhilah\n",
      "NIM :  180441100136\n",
      "Pegawai\n",
      "Nama :  Maroon\n",
      "NIP :  199900304\n",
      "Karyawan\n",
      "Pegawai\n",
      "Nama :  Ocean\n",
      "NIP :  123432123\n",
      "NIDN :  98765\n",
      "Dosen\n"
     ]
    }
   ],
   "source": [
    "class orang:\n",
    "    def __init__(self, nama):\n",
    "        self.nama = nama\n",
    "        print(\"Nama : \", self.nama)\n",
    "class mahasiswa(orang):\n",
    "    def __init__(self, nim, nama):\n",
    "        print(\"Mahasiswa\")\n",
    "        super().__init__(nama)\n",
    "        self.nim = nim\n",
    "        print(\"NIM : \", self.nim)\n",
    "class pegawai(orang):\n",
    "    def __init__(self, nip, nama):\n",
    "        print(\"Pegawai\")\n",
    "        super().__init__(nama)\n",
    "        self.nip = nip\n",
    "        print(\"NIP : \", self.nip)\n",
    "class karyawan(pegawai):\n",
    "    def __init__(self, nip, nama):\n",
    "        super().__init__(nip, nama)\n",
    "        print(\"Karyawan\")\n",
    "class dosen(pegawai):\n",
    "    def __init__(self, nip, nama, nidn):\n",
    "        super().__init__(nip, nama)\n",
    "        self.nidn = nidn\n",
    "        print(\"NIDN : \", self.nidn)\n",
    "        print(\"Dosen\")\n",
    "x = mahasiswa(180441100136, \"Nur Fadhilah\")\n",
    "y = karyawan(199900304, \"Maroon\")\n",
    "z = dosen (123432123, \"Ocean\", 98765)"
   ]
  },
  {
   "cell_type": "code",
   "execution_count": 17,
   "metadata": {},
   "outputs": [
    {
     "name": "stdout",
     "output_type": "stream",
     "text": [
      "Masukkan Nama mahasiswa: a\n",
      "Masukkan NPM: 1\n",
      ">>>>>>>>>>>>>>>>>>>>>>>>>>>>>>>>>>>>>>>>>>>>>>>>>>>>>>>>>>>>>>>>>\n",
      "Nama Mahasiswa:  a\n",
      "NPM:  1\n",
      ">>>>>>>>>>>>>>>>>>>>>>>>>>>>>>>>>>>>>>>>>>>>>>>>>>>>>>>>>>>>>>>>>\n",
      "-\n",
      "No.: Mata Kuliah                                   : Kode        : IP \n",
      ">>>>>>>>>>>>>>>>>>>>>>>>>>>>>>>>>>>>>>>>>>>>>>>>>>>>>>>>>>>>>>>>>\n",
      "1 : E-BUSSINES & E-COMMERCE                        : SI101       : 4\n",
      "2 : KETERAMPILAN INTERPERSONAL                     : SI105       : 3.5\n",
      "3 : PAI                                            : UNG101      : 4\n",
      "4 : PTIK                                           : SI102       : 3.5\n",
      "5 : ALGORITMA PEMROGRAMAN                          : SI103       : 3.5\n",
      "6 : MATEMATIKA DISKRIT                             : SI104       : 3.5\n",
      ">>>>>>>>>>>>>>>>>>>>>>>>>>>>>>>>>>>>>>>>>>>>>>>>>>>>>>>>>>>>>>>>>\n",
      "IPK :  3.67\n"
     ]
    }
   ],
   "source": [
    "class Mahasiswa:\n",
    "    def __init__(self,nm,npm):\n",
    "        self.nama_mahasiswa=nm\n",
    "        self.np_mahasiswa=npm\n",
    "    def nama(self):\n",
    "        self.nama_mahasiswa=input(\"Masukkan Nama mahasiswa: \")\n",
    "        self.np_mahasiswa=int(input(\"Masukkan NPM: \"))\n",
    "        print(\">>>>>>>>>>>>>>>>>>>>>>>>>>>>>>>>>>>>>>>>>>>>>>>>>>>>>>>>>>>>>>>>>\")\n",
    "        print(\"Nama Mahasiswa: \",self.nama_mahasiswa)\n",
    "        print(\"NPM: \",self.np_mahasiswa)\n",
    "class Matkul:\n",
    "    def __init__(self,no,kode,nmk,ips):\n",
    "        self.nomer=no\n",
    "        self.nama_matakuliah=nmk\n",
    "        self.code=kode\n",
    "        self.ips=ips\n",
    "    def matakuliah(self):\n",
    "        self.nomer=[1,2,3,4,5,6]\n",
    "        self.nama_matakuliah=[\"E-BUSSINES & E-COMMERCE\", \"KETERAMPILAN INTERPERSONAL\", \"PAI\", \"PTIK\", \"ALGORITMA PEMROGRAMAN\", \"MATEMATIKA DISKRIT\"]\n",
    "        self.code=[\"SI101\",\"SI105\",\"UNG101\",\"SI102\",\"SI103\",\"SI104\"]\n",
    "        self.ips=[4,3.5,4,3.5,3.5,3.5]\n",
    "        i=5\n",
    "        print(\">>>>>>>>>>>>>>>>>>>>>>>>>>>>>>>>>>>>>>>>>>>>>>>>>>>>>>>>>>>>>>>>>\")\n",
    "        print(\"-\")\n",
    "        print(\"No.: Mata Kuliah                                   : Kode        : IP \")\n",
    "        print(\">>>>>>>>>>>>>>>>>>>>>>>>>>>>>>>>>>>>>>>>>>>>>>>>>>>>>>>>>>>>>>>>>\")\n",
    "        for i in range(i+1):\n",
    "            print(self.nomer[i],\":\",self.nama_matakuliah[i],\" \"*(45-len(self.nama_matakuliah[i])),\":\",self.code[i],\" \"*(10-len(self.code[i])),\":\",self.ips[i])\n",
    "        print(\">>>>>>>>>>>>>>>>>>>>>>>>>>>>>>>>>>>>>>>>>>>>>>>>>>>>>>>>>>>>>>>>>\")\n",
    "        print(\"IPK : \",round((self.ips[0]+self.ips[1]+self.ips[2]+self.ips[3]+self.ips[4]+self.ips[5])/6,2))\n",
    "class pengambilanmatakuliah(Mahasiswa,Matkul):\n",
    "    def tampilkan(self):\n",
    "        Mahasiswa.nama(self)\n",
    "        Matkul.matakuliah(self)\n",
    "p = pengambilanmatakuliah(\"Nama Mahasiswa\",\"dan NPM\")\n",
    "p.tampilkan()"
   ]
  },
  {
   "cell_type": "code",
   "execution_count": 18,
   "metadata": {},
   "outputs": [
    {
     "name": "stdout",
     "output_type": "stream",
     "text": [
      "2 3\n",
      "pecahan sederhana=  2/3\n"
     ]
    }
   ],
   "source": [
    "import fractions\n",
    "\n",
    "\n",
    "class pecahan:\n",
    "    def __init__(self, pembilang, penyebut):\n",
    "        self.pembilang = pembilang\n",
    "        self.penyebut = penyebut\n",
    "\n",
    "    def tampilkan(self):\n",
    "        print(self.pembilang, self.penyebut)\n",
    "        x = fractions.Fraction(self.pembilang, self.penyebut)\n",
    "        y = self.pembilang / self.penyebut\n",
    "        print(\"pecahan sederhana= \", x)\n",
    "\n",
    "\n",
    "pchn = pecahan(2, 3)\n",
    "pchn.tampilkan()"
   ]
  },
  {
   "cell_type": "code",
   "execution_count": 2,
   "metadata": {},
   "outputs": [
    {
     "name": "stdout",
     "output_type": "stream",
     "text": [
      "Coral lives in a community\n",
      "The anemone is protecting the clownfish\n"
     ]
    }
   ],
   "source": [
    "#multiple class\n",
    "\n",
    "class Coral :\n",
    "    def community(self):\n",
    "        print(\"Coral lives in a community\")\n",
    "class Anemone :\n",
    "    def protect_clownfish(self):\n",
    "        print(\"The anemone is protecting the clownfish\")\n",
    "class CoralReef(Coral, Anemone):\n",
    "    pass\n",
    "great_barrier = CoralReef()\n",
    "great_barrier.community()\n",
    "great_barrier.protect_clownfish()"
   ]
  },
  {
   "cell_type": "code",
   "execution_count": null,
   "metadata": {},
   "outputs": [],
   "source": []
  }
 ],
 "metadata": {
  "kernelspec": {
   "display_name": "Python 3",
   "language": "python",
   "name": "python3"
  },
  "language_info": {
   "codemirror_mode": {
    "name": "ipython",
    "version": 3
   },
   "file_extension": ".py",
   "mimetype": "text/x-python",
   "name": "python",
   "nbconvert_exporter": "python",
   "pygments_lexer": "ipython3",
   "version": "3.7.1"
  }
 },
 "nbformat": 4,
 "nbformat_minor": 2
}
