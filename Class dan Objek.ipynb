{
 "cells": [
  {
   "cell_type": "markdown",
   "metadata": {},
   "source": [
    "# Class dan Objek"
   ]
  },
  {
   "cell_type": "markdown",
   "metadata": {},
   "source": [
    "OOP (Object Oriented Program) atau lebih dikenal dengan Pemrograman Berorientasi Objek (PBO) adalah suatu konsep untuk membuat program / sebuah paradigma (cara berpikir) baru dalam pembuatan sebuah program yang menitikberatkan pada identifikasi objek-objek yang terlibat dalam sebuah program dan bagaimana objek-objek tersebut berinteraksi.\n",
    "\n",
    "Dalam PBO, kita akan bertemu dengan istilah-istilah unik yang harus kita mengerti, seperti objek, class, encapsulation, inheritance, polymorphism."
   ]
  },
  {
   "cell_type": "markdown",
   "metadata": {},
   "source": [
    "Object merupakan sesuatu yang memiliki identitas (nama), pada umumnya juga memiliki data tentang dirinya maupun object lain dan mempunyai kemampuan untuk melakukan sesuatu dan bisa bekerja sama dengan objek lainnya.\n",
    "\n",
    "Semua benda yang ada di dunia ini meruapakan sebuah object. Tanah, gedung, kendaraan, meja, kursi, lemari dan alat-alat elektronik merupakan contoh-contoh object yang ada di dunia nyata.\n",
    "\n",
    "Setiap object memiliki dua karakteristik yaitu, atribut dan behavior. Atribut merupakan status object dan behavior merupakan tingkah laku dari object tersebut. Contoh sederhana adalah mobil. Object mobil memiliki atribut : bodi, mesin, roda, dan gigi, serta memiliki tingkah laku seperti kecepatan pacu dan rem."
   ]
  },
  {
   "cell_type": "markdown",
   "metadata": {},
   "source": [
    "Class suatu template blueprint (kerangka dasar) yang akan dibuat berupa struktur yang mendefinisikan data (property) dan method untuk membuat sebuah object.\n",
    "\n",
    "Suatu class bisa didefinisikan dengan beberapa cara:\n",
    "1.\tMembuat class dari awal\n",
    "2.\tClass dari class yang sudah ada (disebut sebagai subclassing). Pada beberapa bahasa pemrograman lain, proses ini disebut sebagai inheritance(pewarisan)."
   ]
  },
  {
   "cell_type": "markdown",
   "metadata": {},
   "source": [
    "Atribut merupakan karakteristik yang melekat pada suatu obyek. Dalam kehidupan sehari-hari, bisa dicontohkan suatu obyek manusia mempunyai  atribut telinga, kepala, perut, nama, status, dan lain-lain. Atribut bisa didefinisikan seperti halnya pemrogram mendefinisikan suatu variabel (pada dasarnya, atribut pada suatu class memang merupakan variabel). Berikut ini adalah contoh definisi atribut:"
   ]
  },
  {
   "cell_type": "markdown",
   "metadata": {},
   "source": [
    "Method merupakan suatu bagian dari class yang digunakan untuk mendefinisikan berbagai aksi / tindakan yang bisa dilakukan oleh obyek. \n",
    "\n",
    "Metode __init__() adalah metode konstruktor, yaitu metode khusus yang digunakan Python untuk menginisialisasi pembuatan objek dari kelas tersebut.\n",
    "\n",
    "Setiap method harus memiliki parameter self yang artinya method tersebut dimiliki dan terdaftar ke class tersebut untuk membedakan dari method atau fungsi yang ada di luar class\n",
    "\n",
    "Jika pemrogram ingin mengakses atribut maupun suatu method dari method, maka pengaksesan tersebut harus disertai dengan self pada bagian depan, dipisahkan dengan titik kemudian baru nama atribut dan method yang akan diakses. "
   ]
  },
  {
   "cell_type": "code",
   "execution_count": null,
   "metadata": {},
   "outputs": [],
   "source": [
    "class kubus:\n",
    "    def __init__(self, sisi):\n",
    "        self.sisi = sisi\n",
    "    def showsisi(self):\n",
    "        print(self.sisi)\n",
    "    def volume(self):\n",
    "        print(\"Volume = \",self.sisi**3)\n",
    "    def luaspermukaan(self):\n",
    "        print(\"Luas permukaan = \",(self.sisi*6)**2)\n",
    "        \n",
    "kubus1 = kubus()\n",
    "kubus1.showsisi()\n",
    "kubus1.volume()\n",
    "kubus.luaspermukaan()"
   ]
  },
  {
   "cell_type": "code",
   "execution_count": null,
   "metadata": {},
   "outputs": [],
   "source": [
    "class mhs:\n",
    "    def __init__(self, nama, nim, ipk):\n",
    "        self.nama = nama\n",
    "        self.nim = nim\n",
    "        self.ipk = ipk\n",
    "    def tampilkan(self):\n",
    "        print(self.nama, \",\", self.nim, \",\", self.ipk)\n",
    "    def beasiswa(self):\n",
    "        if self.ipk < 3:\n",
    "            print(\"Anda tidak bisa mendaftar beasiswa\")\n",
    "        else:\n",
    "            print(\"Anda bisa mendaftara beasiswa\")\n",
    "            \n",
    "    mahasiswa1 = mahasiswa(\"Nur Fadhilah\", 180441100136)\n",
    "    mahasiswa1.tampilkan()\n",
    "    mahasiswa.beasiswa()"
   ]
  },
  {
   "cell_type": "code",
   "execution_count": null,
   "metadata": {},
   "outputs": [],
   "source": [
    "from datetime import datetime\n",
    "\n",
    "class mhs :\n",
    "    def __init__ (self, nama, nim):\n",
    "        self.nama = nama\n",
    "        self.nim = nim\n",
    "    def tampilkan(self):\n",
    "        print(self.nama, self.nim)\n",
    "    #hitung smt\n",
    "    def smt(self):\n",
    "        sekarang = datetime.now()\n",
    "        tahun = sekarang.year\n",
    "        self.bulan = sekarang.year\n",
    "        if self.bulan <=6:\n",
    "            x = 0\n",
    "        else :\n",
    "            x = 1\n",
    "\n",
    "        self.tahunini = int(str(tahun)[2:])\n",
    "        self.tahunmasuk = int(self.nim[:2])\n",
    "        self.smt = (self.tahunini - self.tahunmasuk) + x\n",
    "        print(self.smt)\n",
    "a = mhs(\"Nur Fadhilah\" , \"180441100136\")\n",
    "a.tampilkan()\n",
    "a.smt()"
   ]
  },
  {
   "cell_type": "code",
   "execution_count": null,
   "metadata": {},
   "outputs": [],
   "source": [
    "from datetime import datetime\n",
    "class Orang:\n",
    "    def __init__(self, nama, tgl, bln, thn):\n",
    "        self.nama = nama\n",
    "        self.tgl = tgl\n",
    "        self.bln = bln\n",
    "        self.thnlahir = thn\n",
    "\n",
    "    def perkenalkan_Anda(self):\n",
    "        print(\"Hai, nama saya \" + self.nama)\n",
    "\n",
    "    def hitung_umur(self, tgl, blnsekarang, thnsekarang):\n",
    "        umur = thnsekarang - self.thnlahir + blnsekarang - self.bln\n",
    "        if blnsekarang < self.bln and tgl < self.tgl:\n",
    "            umur -= 1\n",
    "        return umur\n",
    "\n",
    "    def umur_sekarang(self):\n",
    "        now = datetime.now()\n",
    "        umur = self.hitung_umur(now.day, now.month, now.year)\n",
    "        print(\"Umur saya sekarang adalah %d\" % umur)\n",
    "\n",
    "    def prediksi_umur(self):\n",
    "        tgl = int(input(\"Masukkan tanggal prediksi : \"))\n",
    "        bln = int(input(\"Masukkan bulan prediksi : \"))\n",
    "        thn = int(input(\"Masukkan tahun prediksi : \"))\n",
    "        print(\"\")\n",
    "        umur = self.hitung_umur(tgl, bln, thn)\n",
    "        print(\"Umur saya pada tanggal %d bulan %d tahun %d adalah %d\" % (tgl, bln, thn, umur))\n",
    "\n",
    "\n",
    "a = Orang(\"Nur Fadhilah\", 9, 4, 2001)\n",
    "a.perkenalkan_Anda()\n",
    "a.umur_sekarang()\n",
    "a.prediksi_umur()"
   ]
  }
 ],
 "metadata": {
  "kernelspec": {
   "display_name": "Python 3",
   "language": "python",
   "name": "python3"
  },
  "language_info": {
   "codemirror_mode": {
    "name": "ipython",
    "version": 3
   },
   "file_extension": ".py",
   "mimetype": "text/x-python",
   "name": "python",
   "nbconvert_exporter": "python",
   "pygments_lexer": "ipython3",
   "version": "3.7.1"
  }
 },
 "nbformat": 4,
 "nbformat_minor": 2
}
